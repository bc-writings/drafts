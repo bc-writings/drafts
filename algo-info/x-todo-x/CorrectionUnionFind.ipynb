{
 "cells": [
  {
   "cell_type": "markdown",
   "metadata": {},
   "source": [
    "# Fonctions annexes\n",
    "\n",
    "Commençons par coder les fonctions annexes. \n",
    "\n",
    "- degre(G) donnant le degré de chaque sommet\n",
    "- trieSommets(G) triant les sommets suivant leur degré\n",
    "\n",
    "On rappelle ici que le graphe est implémenté sous forme de liste d'adjacence. Ainsi le degré de chaque sommet est juste le nombre de ses voisins (le graphe n'est pas orienté, donc pas de degré sortant ou entrant). \n",
    "\n",
    "Pour le tri : on utilise la méthode <code>sort</code> de l'objet <code>List</code>. On peut alors utiliser l'argument optionnel <code>key=fonction servant à trier</code> pour spécifier le critère sur lequel on trie les sommets.  "
   ]
  },
  {
   "cell_type": "code",
   "execution_count": 148,
   "metadata": {},
   "outputs": [],
   "source": [
    "def degre(G):\n",
    "    return [len(G[k]) for k in range(len(G))]"
   ]
  },
  {
   "cell_type": "code",
   "execution_count": 149,
   "metadata": {},
   "outputs": [],
   "source": [
    "def trieSommets(G):\n",
    "    deg = degre(G)  # calcul du degré de chaque sommet\n",
    "    sommets = [k for k in range(len(G))] # liste des sommets\n",
    "    sommets.sort(key = lambda s: deg[s], reverse = True)\n",
    "    return sommets"
   ]
  },
  {
   "cell_type": "markdown",
   "metadata": {},
   "source": [
    "On peut tester notre fonction sur le graphe suivant : \n",
    "\n",
    "<img src=\"test.png\">"
   ]
  },
  {
   "cell_type": "code",
   "execution_count": 150,
   "metadata": {},
   "outputs": [
    {
     "data": {
      "text/plain": [
       "[3, 2, 3, 2, 4, 2]"
      ]
     },
     "execution_count": 150,
     "metadata": {},
     "output_type": "execute_result"
    }
   ],
   "source": [
    "G = [[1,2,3], [0,4], [0,4,5], [0,4], [1,2,3,5], [2,4]]\n",
    "degre(G)"
   ]
  },
  {
   "cell_type": "code",
   "execution_count": 151,
   "metadata": {},
   "outputs": [],
   "source": [
    "L = trieSommets(G)"
   ]
  },
  {
   "cell_type": "markdown",
   "metadata": {},
   "source": [
    "# Algorithme de Welsh-Powel\n",
    "\n",
    "On rappelle ici le principe de l'algorithme : \n",
    "\n",
    "- Trier les sommets par ordre d ́ecroissant de degré pour obtenir la liste <code>sommetsAColorier</code>\n",
    "- Tant que la liste <code>sommetsAColorier</code> n’est pas vide :\n",
    "    - Prendre le premier sommet <code>sMax</code> de la liste et le supprimer.\n",
    "    - Parcourir le reste de la liste au fur et à mesure et réunir les sommets de la liste qui ne sont pas adjacents aux sommets déjà réunis à <code>sMax</code>\n",
    "\n",
    "Tout d'abord définissons comment nous allons implémenter les coloriage. Le nom des couleurs n'est pas intéressant en ce qui nous concerne, ce qui est important c'est de savoir les groupes de sommets qui sont de la même couleur. Il s'agit donc de **partitionner** les sommets en groupes de couleurs différentes : la structure Union-Find s'impose. \n",
    "\n",
    "Ensuite, la principale difficulté réside dans le fait qu'il ne faut pas colorier deux sommets adjacents de la même couleur. Ainsi, quand on va parcourir la liste des sommets à colorier, il faut savoir quels sont les sommets adjacents aux sommets qui sont de la même couleur que <code>sMax</code>. On stockera ces sommets dans une liste <code>sommetsAdjacents</code>. \n",
    "\n",
    "Commençons par définir les fonctions utiles à la manipulation d'une structure Union-Find. "
   ]
  },
  {
   "cell_type": "code",
   "execution_count": 152,
   "metadata": {},
   "outputs": [],
   "source": [
    "def racine(F,s):\n",
    "    if F[s]==s:\n",
    "        return s\n",
    "    else:\n",
    "        r=racine(F,F[s])  # optimisation, les hauteurs sont plus petites\n",
    "        F[s]=r\n",
    "        return r\n",
    "\n",
    "def reunir(F,s1,s2):\n",
    "    F[racine(F,s1)]=racine(F,s2)\n",
    "\n",
    "def sontEquivalent(F,s1,s2):\n",
    "    return racine(F,s1)==racine(F,s2)"
   ]
  },
  {
   "cell_type": "markdown",
   "metadata": {},
   "source": [
    "On peut alors implémenter l'algorigthme : "
   ]
  },
  {
   "cell_type": "code",
   "execution_count": 153,
   "metadata": {},
   "outputs": [],
   "source": [
    "def colorationWP(G):\n",
    "    # initialisation des sommets : on trie les sommets par degré décroissant\n",
    "    sommetsAColorier = trieSommets(G) \n",
    "    # initialisation de la structure union-find\n",
    "    coloration = [k for k in range(len(G))]\n",
    "\n",
    "    while sommetsAColorier!=[]: # tant qu'il reste des sommets à colorier\n",
    "        sMax = sommetsAColorier.pop(0) # on prend le premier sommet à colorier (degré max donc)\n",
    "        sommetsAdjacents = G[sMax] # liste qui contient les sommets adjacents aux sommets de la même couleur que sMax (pour l'instant il n'y a que sMax)\n",
    "        restants = [] # liste qui contiendra les sommets qui resteront à colorier\n",
    "        for s in sommetsAColorier: # pour chaque sommet à colorier\n",
    "            if s not in sommetsAdjacents: # s'il n'est pas adjacent à un sommet colorié de la même couleur que sMax\n",
    "                reunir(coloration, s,sMax) # on le colorie de la même couleur que sMax\n",
    "                sommetsAdjacents+=G[s] # on rajoute ses voisins à la liste des sommets adjacents (pour qu'ils ne soient pas de la même couleur)\n",
    "            else:\n",
    "                restants.append(s) # sinon, il va falloir le colorier plus tard\n",
    "        sommetsAColorier = restants # on met à jour la liste des sommets à colorier\n",
    "    return coloration # on renvoie la structure union-find correspondant à la coloration\n"
   ]
  },
  {
   "cell_type": "markdown",
   "metadata": {},
   "source": [
    "On peut tester l'algorithme : "
   ]
  },
  {
   "cell_type": "code",
   "execution_count": 154,
   "metadata": {},
   "outputs": [
    {
     "data": {
      "text/plain": [
       "[4, 2, 2, 2, 4, 5]"
      ]
     },
     "execution_count": 154,
     "metadata": {},
     "output_type": "execute_result"
    }
   ],
   "source": [
    "colorationWP(G)"
   ]
  },
  {
   "cell_type": "markdown",
   "metadata": {},
   "source": [
    "Pour visualiser le résultat, on peut utiliser la fonction définie en cours : "
   ]
  },
  {
   "cell_type": "code",
   "execution_count": 155,
   "metadata": {},
   "outputs": [],
   "source": [
    "def affichePartition(F):\n",
    "\tN = len(F)\n",
    "\tdico = {}\n",
    "\tfor s in range(N):\n",
    "\t\tr = racine(F,s)\n",
    "\t\tif r in dico:\n",
    "\t\t\tdico[r].append(s)\n",
    "\t\telse:\n",
    "\t\t\tdico[r]=[s]\n",
    "\treturn [dico[r] for r in dico]"
   ]
  },
  {
   "cell_type": "code",
   "execution_count": 156,
   "metadata": {},
   "outputs": [
    {
     "data": {
      "text/plain": [
       "[[0, 4], [1, 2, 3], [5]]"
      ]
     },
     "execution_count": 156,
     "metadata": {},
     "output_type": "execute_result"
    }
   ],
   "source": [
    "affichePartition(colorationWP(G))"
   ]
  },
  {
   "cell_type": "markdown",
   "metadata": {},
   "source": [
    "# Bonus : Arbre couvrant minimal\n",
    "\n",
    "On rappelle ici l'algorithme : \n",
    "\n",
    "- *Initialisation*\n",
    "    - on initialise un graphe arbre sans ar`etes\n",
    "    - on selectionne un sommet depart (prendre 0) et on initialise une liste listeAretes constituée des arêtes issues de ce sommet.\n",
    "- Tant que le liste listeAretes n’est pas vide :\n",
    "    - On s ́electionne une arète aMin de poids minimal dans la liste listeAretes\n",
    "    - On le supprime de la liste listeAretes\n",
    "    - Si aMin=(s,t) avec s déjà relié à depart dans arbre et t non relié, alors on rajoute l’arc aMin au graphe arbre.\n",
    "    - On rajoute les arêtes « utiles » issues de t à la liste listeAretes (c’est–à–dire les arêtes reliant deux sommets non déjà reliés).\n",
    "\n",
    "On commence par les routines utiles : \n",
    "\n",
    "- <code>aretesIssuesDe(s,G)</code> renvoie les arêtes issues de s\n",
    "- <code>areteMin(listeAretes)</code> renvoie l'arêtes minimale d'une slite d'arêtes"
   ]
  },
  {
   "cell_type": "code",
   "execution_count": 157,
   "metadata": {},
   "outputs": [],
   "source": [
    "def aretesIssuesDe(s,G):\n",
    "\tlisteAretes = []\n",
    "\tfor i in range(len(G)):\n",
    "\t\tif G[s][i] != 0:\n",
    "\t\t\tlisteAretes.append((s,G[s][i],i))\n",
    "\treturn listeAretes\n",
    "\n",
    "def areteMin(listeAretes):\n",
    "\tif listeAretes==[]:\n",
    "\t\treturn None\n",
    "\ta = listeAretes[0]\n",
    "\tfor (s,p,i) in listeAretes:\n",
    "\t\tif p<a[1]:\n",
    "\t\t\ta = (s,p,i)\n",
    "\treturn a"
   ]
  },
  {
   "cell_type": "markdown",
   "metadata": {},
   "source": [
    "On peut alors implémenter l'algorithme : "
   ]
  },
  {
   "cell_type": "code",
   "execution_count": 158,
   "metadata": {},
   "outputs": [],
   "source": [
    "def arbreCouvrantMin(G):\n",
    "\tarbre = [[0]*len(G) for k in range(len(G))] # on initialise un graphe sans arête\n",
    "\tlisteAretes = aretesIssuesDe(0,G) # on initialise (en partant de 0) la liste des arêtes que l'on va éventuellement ajouter \n",
    "\tcomposantes = [k for k in range(len(G))] # on initialise les composantes connexes de arbre (par d'arêtes donc que des sommets isolés)\n",
    "\twhile listeAretes!=[]: # tant qu'il y a des arêtes à visiter\n",
    "\t\t(s,p,i) = areteMin(listeAretes) # on choisit l'ar^te de poids minimum\n",
    "\t\tlisteAretes.remove((s,p,i)) # que l'on supprime de la liste\n",
    "\t\tif not sontEquivalent(composantes, s, i): # si c'est une arêts connectant deux sommets non déjà reliés\n",
    "\t\t\tarbre[s][i]=p # on l'ajoute à l'arbre\n",
    "\t\t\tarbre[i][s]=p # arbre est non orienté\n",
    "\t\t\treunir(composantes, s, i) # on adapte les composantes connexes de l'arbre\n",
    "\t\t\tnouvellesAretesPossibles = aretesIssuesDe(i,G) # on considère les arêtes issues de i\n",
    "\t\t\tfor (u,pp,v) in nouvellesAretesPossibles: # et un ne garde que celles reliant des sommets non déjà reliés\n",
    "\t\t\t\tif not sontEquivalent(composantes,u,v):\n",
    "\t\t\t\t\tlisteAretes.append((u,pp,v))\n",
    "\treturn arbre"
   ]
  },
  {
   "cell_type": "code",
   "execution_count": 159,
   "metadata": {},
   "outputs": [
    {
     "name": "stdout",
     "output_type": "stream",
     "text": [
      "[[0, 0, 2, 0, 0], [0, 0, 0, 0, 2], [2, 0, 0, -1, 1], [0, 0, -1, 0, 0], [0, 2, 1, 0, 0]]\n"
     ]
    }
   ],
   "source": [
    "# test\n",
    "G = [\n",
    "[0,4,2,3,0],\n",
    "[4,0,5,0,2],\n",
    "[2,5,0,-1,1],\n",
    "[3,0,-1,0,0],\n",
    "[0,2,1,0,0]\n",
    "]\n",
    "\n",
    "print(arbreCouvrantMin(G))"
   ]
  },
  {
   "cell_type": "code",
   "execution_count": null,
   "metadata": {},
   "outputs": [],
   "source": []
  }
 ],
 "metadata": {
  "kernelspec": {
   "display_name": "Python 3",
   "language": "python",
   "name": "python3"
  },
  "language_info": {
   "codemirror_mode": {
    "name": "ipython",
    "version": 3
   },
   "file_extension": ".py",
   "mimetype": "text/x-python",
   "name": "python",
   "nbconvert_exporter": "python",
   "pygments_lexer": "ipython3",
   "version": "3.7.3"
  }
 },
 "nbformat": 4,
 "nbformat_minor": 2
}
